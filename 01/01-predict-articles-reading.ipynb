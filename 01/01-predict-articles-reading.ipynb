{
 "cells": [
  {
   "cell_type": "code",
   "execution_count": 1,
   "id": "5b45d14c",
   "metadata": {},
   "outputs": [],
   "source": [
    "import pandas as pd "
   ]
  },
  {
   "cell_type": "code",
   "execution_count": 2,
   "id": "eee1e055",
   "metadata": {},
   "outputs": [
    {
     "data": {
      "text/html": [
       "<div>\n",
       "<style scoped>\n",
       "    .dataframe tbody tr th:only-of-type {\n",
       "        vertical-align: middle;\n",
       "    }\n",
       "\n",
       "    .dataframe tbody tr th {\n",
       "        vertical-align: top;\n",
       "    }\n",
       "\n",
       "    .dataframe thead th {\n",
       "        text-align: right;\n",
       "    }\n",
       "</style>\n",
       "<table border=\"1\" class=\"dataframe\">\n",
       "  <thead>\n",
       "    <tr style=\"text-align: right;\">\n",
       "      <th></th>\n",
       "      <th>Likes</th>\n",
       "      <th>Forwards</th>\n",
       "      <th>Hot</th>\n",
       "      <th>Rating</th>\n",
       "      <th>Views</th>\n",
       "    </tr>\n",
       "  </thead>\n",
       "  <tbody>\n",
       "    <tr>\n",
       "      <th>0</th>\n",
       "      <td>2646</td>\n",
       "      <td>1347.0</td>\n",
       "      <td>7</td>\n",
       "      <td>5</td>\n",
       "      <td>260004</td>\n",
       "    </tr>\n",
       "    <tr>\n",
       "      <th>1</th>\n",
       "      <td>816</td>\n",
       "      <td>816.0</td>\n",
       "      <td>4</td>\n",
       "      <td>6</td>\n",
       "      <td>100004</td>\n",
       "    </tr>\n",
       "    <tr>\n",
       "      <th>2</th>\n",
       "      <td>1224</td>\n",
       "      <td>612.0</td>\n",
       "      <td>6</td>\n",
       "      <td>5</td>\n",
       "      <td>164502</td>\n",
       "    </tr>\n",
       "    <tr>\n",
       "      <th>3</th>\n",
       "      <td>1261</td>\n",
       "      <td>1261.0</td>\n",
       "      <td>6</td>\n",
       "      <td>6</td>\n",
       "      <td>163001</td>\n",
       "    </tr>\n",
       "    <tr>\n",
       "      <th>4</th>\n",
       "      <td>1720</td>\n",
       "      <td>1720.0</td>\n",
       "      <td>7</td>\n",
       "      <td>5</td>\n",
       "      <td>260401</td>\n",
       "    </tr>\n",
       "    <tr>\n",
       "      <th>5</th>\n",
       "      <td>1541</td>\n",
       "      <td>1541.0</td>\n",
       "      <td>7</td>\n",
       "      <td>5</td>\n",
       "      <td>220002</td>\n",
       "    </tr>\n",
       "    <tr>\n",
       "      <th>6</th>\n",
       "      <td>827</td>\n",
       "      <td>NaN</td>\n",
       "      <td>5</td>\n",
       "      <td>7</td>\n",
       "      <td>107503</td>\n",
       "    </tr>\n",
       "    <tr>\n",
       "      <th>7</th>\n",
       "      <td>866</td>\n",
       "      <td>686.0</td>\n",
       "      <td>5</td>\n",
       "      <td>9</td>\n",
       "      <td>110504</td>\n",
       "    </tr>\n",
       "    <tr>\n",
       "      <th>8</th>\n",
       "      <td>1314</td>\n",
       "      <td>1300.0</td>\n",
       "      <td>8</td>\n",
       "      <td>5</td>\n",
       "      <td>229461</td>\n",
       "    </tr>\n",
       "    <tr>\n",
       "      <th>9</th>\n",
       "      <td>1431</td>\n",
       "      <td>1099.0</td>\n",
       "      <td>6</td>\n",
       "      <td>5</td>\n",
       "      <td>165004</td>\n",
       "    </tr>\n",
       "  </tbody>\n",
       "</table>\n",
       "</div>"
      ],
      "text/plain": [
       "   Likes  Forwards  Hot  Rating   Views\n",
       "0   2646    1347.0    7       5  260004\n",
       "1    816     816.0    4       6  100004\n",
       "2   1224     612.0    6       5  164502\n",
       "3   1261    1261.0    6       6  163001\n",
       "4   1720    1720.0    7       5  260401\n",
       "5   1541    1541.0    7       5  220002\n",
       "6    827       NaN    5       7  107503\n",
       "7    866     686.0    5       9  110504\n",
       "8   1314    1300.0    8       5  229461\n",
       "9   1431    1099.0    6       5  165004"
      ]
     },
     "execution_count": 2,
     "metadata": {},
     "output_type": "execute_result"
    }
   ],
   "source": [
    "df_ads = pd.read_csv('florist-WeChat-articles.csv')\n",
    "df_ads.head(10)"
   ]
  },
  {
   "cell_type": "code",
   "execution_count": 3,
   "id": "46008d1c",
   "metadata": {},
   "outputs": [
    {
     "data": {
      "text/plain": [
       "Likes        0\n",
       "Forwards    37\n",
       "Hot          0\n",
       "Rating       0\n",
       "Views        0\n",
       "dtype: int64"
      ]
     },
     "execution_count": 3,
     "metadata": {},
     "output_type": "execute_result"
    }
   ],
   "source": [
    "df_ads.isna().sum()"
   ]
  },
  {
   "cell_type": "code",
   "execution_count": 4,
   "id": "045e4a2e",
   "metadata": {},
   "outputs": [],
   "source": [
    "df_ads = df_ads.dropna()"
   ]
  },
  {
   "cell_type": "code",
   "execution_count": 5,
   "id": "11ff8581",
   "metadata": {},
   "outputs": [],
   "source": [
    "import matplotlib.pyplot as plt\n",
    "import seaborn as sns"
   ]
  },
  {
   "cell_type": "code",
   "execution_count": 6,
   "id": "4a54ae59",
   "metadata": {},
   "outputs": [
    {
     "data": {
      "image/png": "[encoded data removed]",
      "text/plain": [
       "<Figure size 432x288 with 1 Axes>"
      ]
     },
     "metadata": {
      "needs_background": "light"
     },
     "output_type": "display_data"
    }
   ],
   "source": [
    "plt.plot(df_ads['Likes'],df_ads['Views'],'r.', label='Training data')\n",
    "plt.xlabel('Likes')\n",
    "plt.ylabel('Views')\n",
    "plt.legend()\n",
    "plt.show()"
   ]
  },
  {
   "cell_type": "code",
   "execution_count": 7,
   "id": "2be8f3ed",
   "metadata": {},
   "outputs": [
    {
     "data": {
      "image/png": "[encoded data removed]",
      "text/plain": [
       "<Figure size 432x288 with 1 Axes>"
      ]
     },
     "metadata": {
      "needs_background": "light"
     },
     "output_type": "display_data"
    }
   ],
   "source": [
    "data = pd.concat([df_ads['Views'], df_ads['Hot']], axis=1)\n",
    "fig = sns.boxplot(x='Hot', y=\"Views\", data=data)\n",
    "fig.axis(ymin=0, ymax=800000);"
   ]
  },
  {
   "cell_type": "code",
   "execution_count": 8,
   "id": "f61c9825",
   "metadata": {},
   "outputs": [],
   "source": [
    "X = df_ads.drop(['Views'],axis=1)\n",
    "y = df_ads.Views"
   ]
  },
  {
   "cell_type": "code",
   "execution_count": 9,
   "id": "362cec40",
   "metadata": {},
   "outputs": [
    {
     "data": {
      "text/html": [
       "<div>\n",
       "<style scoped>\n",
       "    .dataframe tbody tr th:only-of-type {\n",
       "        vertical-align: middle;\n",
       "    }\n",
       "\n",
       "    .dataframe tbody tr th {\n",
       "        vertical-align: top;\n",
       "    }\n",
       "\n",
       "    .dataframe thead th {\n",
       "        text-align: right;\n",
       "    }\n",
       "</style>\n",
       "<table border=\"1\" class=\"dataframe\">\n",
       "  <thead>\n",
       "    <tr style=\"text-align: right;\">\n",
       "      <th></th>\n",
       "      <th>Likes</th>\n",
       "      <th>Forwards</th>\n",
       "      <th>Hot</th>\n",
       "      <th>Rating</th>\n",
       "    </tr>\n",
       "  </thead>\n",
       "  <tbody>\n",
       "    <tr>\n",
       "      <th>0</th>\n",
       "      <td>2646</td>\n",
       "      <td>1347.0</td>\n",
       "      <td>7</td>\n",
       "      <td>5</td>\n",
       "    </tr>\n",
       "    <tr>\n",
       "      <th>1</th>\n",
       "      <td>816</td>\n",
       "      <td>816.0</td>\n",
       "      <td>4</td>\n",
       "      <td>6</td>\n",
       "    </tr>\n",
       "    <tr>\n",
       "      <th>2</th>\n",
       "      <td>1224</td>\n",
       "      <td>612.0</td>\n",
       "      <td>6</td>\n",
       "      <td>5</td>\n",
       "    </tr>\n",
       "    <tr>\n",
       "      <th>3</th>\n",
       "      <td>1261</td>\n",
       "      <td>1261.0</td>\n",
       "      <td>6</td>\n",
       "      <td>6</td>\n",
       "    </tr>\n",
       "    <tr>\n",
       "      <th>4</th>\n",
       "      <td>1720</td>\n",
       "      <td>1720.0</td>\n",
       "      <td>7</td>\n",
       "      <td>5</td>\n",
       "    </tr>\n",
       "  </tbody>\n",
       "</table>\n",
       "</div>"
      ],
      "text/plain": [
       "   Likes  Forwards  Hot  Rating\n",
       "0   2646    1347.0    7       5\n",
       "1    816     816.0    4       6\n",
       "2   1224     612.0    6       5\n",
       "3   1261    1261.0    6       6\n",
       "4   1720    1720.0    7       5"
      ]
     },
     "execution_count": 9,
     "metadata": {},
     "output_type": "execute_result"
    }
   ],
   "source": [
    "X.head()"
   ]
  },
  {
   "cell_type": "code",
   "execution_count": 10,
   "id": "510ada6d",
   "metadata": {},
   "outputs": [
    {
     "data": {
      "text/plain": [
       "0    260004\n",
       "1    100004\n",
       "2    164502\n",
       "3    163001\n",
       "4    260401\n",
       "Name: Views, dtype: int64"
      ]
     },
     "execution_count": 10,
     "metadata": {},
     "output_type": "execute_result"
    }
   ],
   "source": [
    "y.head()"
   ]
  },
  {
   "cell_type": "code",
   "execution_count": 11,
   "id": "6381fb22",
   "metadata": {},
   "outputs": [],
   "source": [
    "from sklearn.model_selection import train_test_split\n",
    "X_train, X_test, y_train, y_test = train_test_split(X, y, \n",
    "                                   test_size=0.2, random_state=10)"
   ]
  },
  {
   "cell_type": "code",
   "execution_count": 12,
   "id": "af31333c",
   "metadata": {},
   "outputs": [],
   "source": [
    "from sklearn.linear_model import LinearRegression\n",
    "model = LinearRegression()"
   ]
  },
  {
   "cell_type": "code",
   "execution_count": 13,
   "id": "d8411ece",
   "metadata": {},
   "outputs": [
    {
     "data": {
      "text/plain": [
       "LinearRegression()"
      ]
     },
     "execution_count": 13,
     "metadata": {},
     "output_type": "execute_result"
    }
   ],
   "source": [
    "model.fit(X_train, y_train)"
   ]
  },
  {
   "cell_type": "code",
   "execution_count": 14,
   "id": "017c7272",
   "metadata": {},
   "outputs": [],
   "source": [
    "y_pred = model.predict(X_test)"
   ]
  },
  {
   "cell_type": "code",
   "execution_count": 15,
   "id": "2bb97588",
   "metadata": {},
   "outputs": [
    {
     "data": {
      "text/html": [
       "<div>\n",
       "<style scoped>\n",
       "    .dataframe tbody tr th:only-of-type {\n",
       "        vertical-align: middle;\n",
       "    }\n",
       "\n",
       "    .dataframe tbody tr th {\n",
       "        vertical-align: top;\n",
       "    }\n",
       "\n",
       "    .dataframe thead th {\n",
       "        text-align: right;\n",
       "    }\n",
       "</style>\n",
       "<table border=\"1\" class=\"dataframe\">\n",
       "  <thead>\n",
       "    <tr style=\"text-align: right;\">\n",
       "      <th></th>\n",
       "      <th>Likes</th>\n",
       "      <th>Forwards</th>\n",
       "      <th>Hot</th>\n",
       "      <th>Rating</th>\n",
       "      <th>Views True</th>\n",
       "      <th>Views Predict</th>\n",
       "    </tr>\n",
       "  </thead>\n",
       "  <tbody>\n",
       "    <tr>\n",
       "      <th>150</th>\n",
       "      <td>1768</td>\n",
       "      <td>884.0</td>\n",
       "      <td>7</td>\n",
       "      <td>5</td>\n",
       "      <td>224904</td>\n",
       "      <td>204326.495272</td>\n",
       "    </tr>\n",
       "    <tr>\n",
       "      <th>36</th>\n",
       "      <td>988</td>\n",
       "      <td>988.0</td>\n",
       "      <td>5</td>\n",
       "      <td>5</td>\n",
       "      <td>113001</td>\n",
       "      <td>117182.827329</td>\n",
       "    </tr>\n",
       "    <tr>\n",
       "      <th>1049</th>\n",
       "      <td>2062</td>\n",
       "      <td>1157.0</td>\n",
       "      <td>7</td>\n",
       "      <td>5</td>\n",
       "      <td>277002</td>\n",
       "      <td>236266.050505</td>\n",
       "    </tr>\n",
       "    <tr>\n",
       "      <th>393</th>\n",
       "      <td>1392</td>\n",
       "      <td>1392.0</td>\n",
       "      <td>5</td>\n",
       "      <td>6</td>\n",
       "      <td>121502</td>\n",
       "      <td>166316.290479</td>\n",
       "    </tr>\n",
       "    <tr>\n",
       "      <th>1255</th>\n",
       "      <td>1537</td>\n",
       "      <td>1319.0</td>\n",
       "      <td>6</td>\n",
       "      <td>9</td>\n",
       "      <td>174002</td>\n",
       "      <td>206254.835807</td>\n",
       "    </tr>\n",
       "    <tr>\n",
       "      <th>...</th>\n",
       "      <td>...</td>\n",
       "      <td>...</td>\n",
       "      <td>...</td>\n",
       "      <td>...</td>\n",
       "      <td>...</td>\n",
       "      <td>...</td>\n",
       "    </tr>\n",
       "    <tr>\n",
       "      <th>497</th>\n",
       "      <td>1913</td>\n",
       "      <td>896.0</td>\n",
       "      <td>6</td>\n",
       "      <td>6</td>\n",
       "      <td>177004</td>\n",
       "      <td>189916.572692</td>\n",
       "    </tr>\n",
       "    <tr>\n",
       "      <th>644</th>\n",
       "      <td>1500</td>\n",
       "      <td>1356.0</td>\n",
       "      <td>7</td>\n",
       "      <td>5</td>\n",
       "      <td>246582</td>\n",
       "      <td>218800.099624</td>\n",
       "    </tr>\n",
       "    <tr>\n",
       "      <th>38</th>\n",
       "      <td>1258</td>\n",
       "      <td>1258.0</td>\n",
       "      <td>7</td>\n",
       "      <td>5</td>\n",
       "      <td>172504</td>\n",
       "      <td>200171.838771</td>\n",
       "    </tr>\n",
       "    <tr>\n",
       "      <th>943</th>\n",
       "      <td>438</td>\n",
       "      <td>290.0</td>\n",
       "      <td>2</td>\n",
       "      <td>5</td>\n",
       "      <td>60004</td>\n",
       "      <td>-32628.683687</td>\n",
       "    </tr>\n",
       "    <tr>\n",
       "      <th>1170</th>\n",
       "      <td>1350</td>\n",
       "      <td>1248.0</td>\n",
       "      <td>6</td>\n",
       "      <td>5</td>\n",
       "      <td>168505</td>\n",
       "      <td>178150.881315</td>\n",
       "    </tr>\n",
       "  </tbody>\n",
       "</table>\n",
       "<p>285 rows × 6 columns</p>\n",
       "</div>"
      ],
      "text/plain": [
       "      Likes  Forwards  Hot  Rating  Views True  Views Predict\n",
       "150    1768     884.0    7       5      224904  204326.495272\n",
       "36      988     988.0    5       5      113001  117182.827329\n",
       "1049   2062    1157.0    7       5      277002  236266.050505\n",
       "393    1392    1392.0    5       6      121502  166316.290479\n",
       "1255   1537    1319.0    6       9      174002  206254.835807\n",
       "...     ...       ...  ...     ...         ...            ...\n",
       "497    1913     896.0    6       6      177004  189916.572692\n",
       "644    1500    1356.0    7       5      246582  218800.099624\n",
       "38     1258    1258.0    7       5      172504  200171.838771\n",
       "943     438     290.0    2       5       60004  -32628.683687\n",
       "1170   1350    1248.0    6       5      168505  178150.881315\n",
       "\n",
       "[285 rows x 6 columns]"
      ]
     },
     "execution_count": 15,
     "metadata": {},
     "output_type": "execute_result"
    }
   ],
   "source": [
    "df_ads_pred = X_test.copy()\n",
    "df_ads_pred['Views True'] = y_test\n",
    "df_ads_pred['Views Predict'] = y_pred\n",
    "df_ads_pred"
   ]
  },
  {
   "cell_type": "code",
   "execution_count": 16,
   "id": "cf438c71",
   "metadata": {},
   "outputs": [
    {
     "name": "stdout",
     "output_type": "stream",
     "text": [
      "Test Score 0.418936509530742\n",
      "Train Score 0.7826168129744089\n"
     ]
    }
   ],
   "source": [
    "print('Test Score', model.score(X_test, y_test))\n",
    "print('Train Score', model.score(X_train, y_train))"
   ]
  }
 ],
 "metadata": {
  "kernelspec": {
   "display_name": "Python 3 (ipykernel)",
   "language": "python",
   "name": "python3"
  },
  "language_info": {
   "codemirror_mode": {
    "name": "ipython",
    "version": 3
   },
   "file_extension": ".py",
   "mimetype": "text/x-python",
   "name": "python",
   "nbconvert_exporter": "python",
   "pygments_lexer": "ipython3",
   "version": "3.9.12"
  },
  "toc": {
   "base_numbering": 1,
   "nav_menu": {},
   "number_sections": true,
   "sideBar": true,
   "skip_h1_title": false,
   "title_cell": "Table of Contents",
   "title_sidebar": "Contents",
   "toc_cell": false,
   "toc_position": {},
   "toc_section_display": true,
   "toc_window_display": false
  }
 },
 "nbformat": 4,
 "nbformat_minor": 5
}
